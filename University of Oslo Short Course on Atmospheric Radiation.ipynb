{
 "cells": [
  {
   "cell_type": "markdown",
   "metadata": {},
   "source": [
    "# Short Course on Atmospheric Radiative Transfer"
   ]
  },
  {
   "cell_type": "markdown",
   "metadata": {},
   "source": [
    "<i>© Von P. Walden, Washington State University</i>"
   ]
  },
  {
   "cell_type": "markdown",
   "metadata": {},
   "source": [
    "### <i><u>Instructor:</u></i>  Von P. Walden, Professor of Civil and Environmental Engineering, [Laboratory for Atmospheric Research](http://lar.wsu.edu), [Washington State University](http://wsu.edu) (currently at the [Norwegian Polar Institute](http://www.npolar.no))"
   ]
  },
  {
   "cell_type": "markdown",
   "metadata": {},
   "source": [
    "### <i><u>Dates:</u></i> Five-day course (4 hrs/day) to be offered on 21-23 and 26-27 October 2015"
   ]
  },
  {
   "cell_type": "markdown",
   "metadata": {},
   "source": [
    "### <i><u>Location:</u></i> [Department of Geosciences, University of Oslo](http://www.mn.uio.no/geo/english/)"
   ]
  },
  {
   "cell_type": "markdown",
   "metadata": {},
   "source": [
    "### <i><u>Suggested Reading:</u></i> Petty, G., 2011: <i>A first course in atmospheric radiation, 2nd edition</i>, Sundog Publishing, LLC. [(http://www.sundogpublishing.com/ordering/for-students/)](http://www.sundogpublishing.com/ordering/for-students/)"
   ]
  },
  {
   "cell_type": "markdown",
   "metadata": {},
   "source": [
    "## This short course is designed to provide students with an overview of how solar and infrared radiation propagate in the atmosphere, and how radiation is measured through remote sensing. Examples will include measurements from the recent [Norwegian Young Sea-Ice experiment](http://www.npolar.no/en/projects/details?pid=b98886ce-590a-48a8-b113-4b96e98c65c8), conducted north of Svalbard from January through June 2015. "
   ]
  },
  {
   "cell_type": "markdown",
   "metadata": {},
   "source": [
    "## This course will be taught using open-source tools including [Interactive Python](http://ipython.org) and [Jupyter notebooks](http://jupyter.org). Part of this course will be to learn how to effectively use these tools."
   ]
  },
  {
   "cell_type": "markdown",
   "metadata": {},
   "source": [
    "## The goals of the course are:"
   ]
  },
  {
   "cell_type": "markdown",
   "metadata": {},
   "source": [
    "### 1. Explain the relevance of solar and infrared radiation to weather and climate.\n",
    "### 2. Describe the properties of electromagnetic radiation in the forms of solar and infrared radiation.\n",
    "### 3. Provide a description of how solar and infrared radiation propagate within the atmosphere.\n",
    "### 4. Perform calculations of atmospheric solar and infrared radiation at various locations and altitudes.\n",
    "### 5. Describe the information content that can retrieved from solar and infrared radiation by remote sensing.\n",
    "### 6. Incorporate recent measurements from the Norwegian Young Sea Ice Experiment (N-ICE)."
   ]
  },
  {
   "cell_type": "markdown",
   "metadata": {},
   "source": [
    "Course Overview (in two slides !!)  \n",
    "    [Slide 1](content/lectures/Overview.001.png)\n",
    "    [Slide 2](content/lectures/Overview.002.png)"
   ]
  },
  {
   "cell_type": "markdown",
   "metadata": {},
   "source": [
    "<hr width=\"100%\" align=\"center\" noshade>"
   ]
  },
  {
   "cell_type": "markdown",
   "metadata": {},
   "source": [
    "# Course Schedule "
   ]
  },
  {
   "cell_type": "markdown",
   "metadata": {},
   "source": [
    "## <a href=\"#Day 1\">Day 1 - Introduction to Atmospheric Radiation</a>\n",
    "## <a href=\"#Day 2\">Day 2 - Atmospheric Radiative Transfer 1</a>\n",
    "## <a href=\"#Day 3\">Day 3 - Atmospheric Radiative Transfer 2</a>\n",
    "## <a href=\"#Day 4\">Day 4 - Atmospheric Radiative Transfer 3</a>\n",
    "## <a href=\"#Day 5\">Day 5 - Remote Sensing of Atmospheric Radiation</a>"
   ]
  },
  {
   "cell_type": "markdown",
   "metadata": {},
   "source": [
    "<hr width=\"100%\" align=\"center\" noshade>"
   ]
  },
  {
   "cell_type": "markdown",
   "metadata": {},
   "source": [
    "# <a name=\"Day 1\">Day 1 - Introduction to Atmospheric Radiation</a>"
   ]
  },
  {
   "cell_type": "markdown",
   "metadata": {},
   "source": [
    "## A) Open-source Tools for Learning and Collaboration (0.5 hr)"
   ]
  },
  {
   "cell_type": "markdown",
   "metadata": {},
   "source": [
    "Explore [Dr. Walden's tips and tricks for learning Python](content/python/index.html)."
   ]
  },
  {
   "cell_type": "markdown",
   "metadata": {},
   "source": [
    "## B) [Introduction to Electromagnetic Radiation](content/lectures/pages/27.html) (1.5 hrs)"
   ]
  },
  {
   "cell_type": "markdown",
   "metadata": {},
   "source": [
    "1. The Nature of Electromagnetic Radiation\n",
    "2. Flux versus Intensity"
   ]
  },
  {
   "cell_type": "markdown",
   "metadata": {},
   "source": [
    "## C) [Introduction to Infrared Radiation](content/lectures/pages/28.html) (1 hr)"
   ]
  },
  {
   "cell_type": "markdown",
   "metadata": {},
   "source": [
    "1. Planck function\n",
    "2. Kirchoff's Law"
   ]
  },
  {
   "cell_type": "markdown",
   "metadata": {},
   "source": [
    "## D) [Introduction to Solar Radiation](content/lectures/pages/29.html) (1 hr)"
   ]
  },
  {
   "cell_type": "markdown",
   "metadata": {},
   "source": [
    "1. The Solar Spectrum (TOA vs. Surface)\n",
    "2. Equations for Insolation (INcoming SOLar radiATION)\n",
    "3. Global Distribution of Insolation"
   ]
  },
  {
   "cell_type": "markdown",
   "metadata": {},
   "source": [
    "<hr width=\"100%\" align=\"center\" noshade>"
   ]
  },
  {
   "cell_type": "markdown",
   "metadata": {},
   "source": [
    "# <a name=\"Day 2\">Day 2 - Atmospheric Radiative Transfer 1</a>"
   ]
  },
  {
   "cell_type": "markdown",
   "metadata": {},
   "source": [
    "## [FOLLOW-UPs from Day 1](content/lectures/pages/45.html) (0.5 hr)"
   ]
  },
  {
   "cell_type": "markdown",
   "metadata": {},
   "source": [
    "## A) [Global Energy Balance](content/lectures/pages/46.html) (1.5 hrs)"
   ]
  },
  {
   "cell_type": "markdown",
   "metadata": {},
   "source": [
    "1. Basic global energy balance\n",
    "2. Greenhouse effect\n",
    "3. Equilibrium temperature versus surface temperature of Earth"
   ]
  },
  {
   "cell_type": "markdown",
   "metadata": {},
   "source": [
    "## B) [Local Energy Balance: Introduction to N-ICE](content/lectures/pages/53.html) (0.5 hr)"
   ]
  },
  {
   "cell_type": "markdown",
   "metadata": {},
   "source": [
    "1. Description of the [N-ICE experiment](http://www.npolar.no/en/projects/details?pid=b98886ce-590a-48a8-b113-4b96e98c65c8) and its objectives\n",
    "2. Presentation of meteorological and radiation datasets"
   ]
  },
  {
   "cell_type": "markdown",
   "metadata": {},
   "source": [
    "## C) INTERACTIVE LAB - Working with data (2 hrs)"
   ]
  },
  {
   "cell_type": "markdown",
   "metadata": {},
   "source": [
    "1. Understand local energy balance (using data from the N-ICE experiment).\n",
    "2. Exploring the global radiation balance using Earth Radiation Budget Satellite (ERBS) data; mapping top-of-the-atmosphere (TOA) radiation. What influences the TOA flux?"
   ]
  },
  {
   "cell_type": "markdown",
   "metadata": {},
   "source": [
    "<hr width=\"100%\" align=\"center\" noshade>"
   ]
  },
  {
   "cell_type": "markdown",
   "metadata": {},
   "source": [
    "# <a name=\"Day 3\">Day 3 - Atmospheric Radiative Transfer 2</a>"
   ]
  },
  {
   "cell_type": "markdown",
   "metadata": {},
   "source": [
    "## Solar Radiative Transfer (3 hrs)"
   ]
  },
  {
   "cell_type": "markdown",
   "metadata": {},
   "source": [
    "1. [Extinction = Absorption + Scattering](content/lectures/pages/21.html)\n",
    "2. [Atmospheric Transmission](content/lectures/pages/40.html)\n",
    "3. [Scattering in the Atmosphere](content/lectures/pages/41.html)\n",
    "4. [Rayleigh Scattering by molecules](content/lectures/pages/57.html)\n"
   ]
  },
  {
   "cell_type": "markdown",
   "metadata": {},
   "source": [
    "## B) INTERACTIVE LAB - Absorption of solar radiation (1 hr)"
   ]
  },
  {
   "cell_type": "markdown",
   "metadata": {},
   "source": [
    "1. Calculations of optical depth\n",
    "2. Calculate the attenuation of solar radiation by the atmosphere using the [Shortwave version of the Rapid Radiative Transfer Model (RRTM_SW)](http://rtweb.aer.com/rrtm_sw_description.html) --- REFERENCES:  ([Mlawer and Clough, 1998](content/readings/MlawerAndClough_1997.pdf); [Mlawer et al., 1997](content/readings/MlawerEtAl_1997.pdf))"
   ]
  },
  {
   "cell_type": "markdown",
   "metadata": {},
   "source": [
    "<hr width=\"100%\" align=\"center\" noshade>"
   ]
  },
  {
   "cell_type": "markdown",
   "metadata": {},
   "source": [
    "# <a name=\"Day 4\">Day 4 - Atmospheric Radiative Transfer 3</a>"
   ]
  },
  {
   "cell_type": "markdown",
   "metadata": {},
   "source": [
    "## A) Radiative Transfer (3 hours)"
   ]
  },
  {
   "cell_type": "markdown",
   "metadata": {},
   "source": [
    "### Infrared Radiation"
   ]
  },
  {
   "cell_type": "markdown",
   "metadata": {},
   "source": [
    "1. Absorption and emission by atmospheric gases\n",
    "2. The effect of clouds - Mie scattering"
   ]
  },
  {
   "cell_type": "markdown",
   "metadata": {},
   "source": [
    "## B) INTERACTIVE LAB - Emission of infrared radiation by atmospheric gases (1 hr)"
   ]
  },
  {
   "cell_type": "markdown",
   "metadata": {},
   "source": [
    "1. Calculations using the [Longwave version of the Rapid Radiative Transfer Model (RRTM)](http://rtweb.aer.com/rrtm_sw_description.html) --- REFERENCES:  ([Mlawer et al., 1997](content/readings/MlawerEtAl_1997.pdf))\n",
    "2. RRTM_LW calculations with and without greenhouse gases; the effects of H2O, CO2, and O3."
   ]
  },
  {
   "cell_type": "markdown",
   "metadata": {
    "collapsed": true
   },
   "source": [
    "<hr width=\"100%\" align=\"center\" noshade>"
   ]
  },
  {
   "cell_type": "markdown",
   "metadata": {},
   "source": [
    "# <a name=\"Day 5\">Day 5 - Remote Sensing of Atmospheric Radiation</a>"
   ]
  },
  {
   "cell_type": "markdown",
   "metadata": {},
   "source": [
    "## A) Satellite Data Products (0.5 hr)"
   ]
  },
  {
   "cell_type": "markdown",
   "metadata": {},
   "source": [
    "Brief introduction to different <b><i>levels</i></b> of satellite data products"
   ]
  },
  {
   "cell_type": "markdown",
   "metadata": {},
   "source": [
    "## B) Example satellite instruments for measuring solar and infrared (0.5 hr)"
   ]
  },
  {
   "cell_type": "markdown",
   "metadata": {},
   "source": [
    "1. [Clouds and the Earth's Radiant Energy System (CERES)](http://ceres.larc.nasa.gov)\n",
    "2. [MODerate-resolution Imaging Spectroradiometer (MODIS)](http://modis-atmos.gsfc.nasa.gov)\n",
    "3. [Atmospheric Infrared Sounder (AIRS)](http://modis-atmos.gsfc.nasa.gov)"
   ]
  },
  {
   "cell_type": "markdown",
   "metadata": {},
   "source": [
    "## C) Retrievals from satellite measurements (2 hrs)"
   ]
  },
  {
   "cell_type": "markdown",
   "metadata": {},
   "source": [
    "1. Brief introduction to inverse theory for retrieving atmospheric properties from satellite measurements"
   ]
  },
  {
   "cell_type": "markdown",
   "metadata": {},
   "source": [
    "## D) INTERACTIVE LAB - Remote data access (1 hrs)"
   ]
  },
  {
   "cell_type": "markdown",
   "metadata": {},
   "source": [
    "1. Accessing openDAP and THREDDS data servers using Python\n",
    "2. Simple retrieval of cloud temperature and emissivity (from Drs. Penny Rowe and Steven Neshyba)"
   ]
  },
  {
   "cell_type": "markdown",
   "metadata": {},
   "source": [
    "<hr width=\"100%\" align=\"center\" noshade>"
   ]
  }
 ],
 "metadata": {
  "kernelspec": {
   "display_name": "Python 3",
   "language": "python",
   "name": "python3"
  },
  "language_info": {
   "codemirror_mode": {
    "name": "ipython",
    "version": 3
   },
   "file_extension": ".py",
   "mimetype": "text/x-python",
   "name": "python",
   "nbconvert_exporter": "python",
   "pygments_lexer": "ipython3",
   "version": "3.4.3"
  }
 },
 "nbformat": 4,
 "nbformat_minor": 0
}
