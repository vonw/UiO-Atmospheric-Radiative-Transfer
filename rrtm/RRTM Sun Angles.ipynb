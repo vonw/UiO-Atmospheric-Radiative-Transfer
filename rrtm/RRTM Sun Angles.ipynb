{
 "cells": [
  {
   "cell_type": "markdown",
   "metadata": {},
   "source": [
    "# Sun Angles"
   ]
  },
  {
   "cell_type": "code",
   "execution_count": 2,
   "metadata": {
    "collapsed": false
   },
   "outputs": [
    {
     "name": "stdout",
     "output_type": "stream",
     "text": [
      "Populating the interactive namespace from numpy and matplotlib\n"
     ]
    }
   ],
   "source": [
    "%pylab inline"
   ]
  },
  {
   "cell_type": "markdown",
   "metadata": {},
   "source": [
    "## Calculates the diurnal cycle for a given longitude, latitude and day of year."
   ]
  },
  {
   "cell_type": "code",
   "execution_count": 3,
   "metadata": {
    "collapsed": false
   },
   "outputs": [],
   "source": [
    "import ephem\n",
    "from datetime import datetime, timedelta"
   ]
  },
  {
   "cell_type": "code",
   "execution_count": 4,
   "metadata": {
    "collapsed": false
   },
   "outputs": [],
   "source": [
    "site = ephem.Observer()\n",
    "\n",
    "# INPUT THE LONGITUDE AND LATITUDE MANUALLY\n",
    "#\n",
    "#   From rrtm_sw_instructions\n",
    "#\n",
    "#\t REF_LAT     latitude of location of calculation (degrees)\n",
    "#\t\t     defaults for REF_LAT = 0:\n",
    "#\t\t     a) MODEL 0,2,3,6    REF_LAT = 45.0 degrees \n",
    "#\t\t     b) MODEL 1          REF_LAT = 15.0\n",
    "#\t\t     c) MODEL 4,5        REF_LAT = 60.0\n",
    "#\t   \n",
    "# Model 0 = User supplied atmosphere\n",
    "# Model 1 = Tropical\n",
    "# Model 2 = Midlatitude Summer\n",
    "# Model 3 = Midlatitude Winter\n",
    "# Model 4 = Sub-Arctic Summer\n",
    "# Model 5 = Sub-Arctic Winter\n",
    "# Model 6 = US standard atmosphere\n",
    "\n",
    "site.lon, site.lat = '0.0', '60.0'"
   ]
  },
  {
   "cell_type": "code",
   "execution_count": 5,
   "metadata": {
    "collapsed": false
   },
   "outputs": [],
   "source": [
    "# USE THE CURRENT DAY\n",
    "#utc = datetime.utcnow()\n",
    "\n",
    "# INPUT THE DAY MANUALLY\n",
    "utc = datetime(2015,3,21)\n",
    "\n",
    "site.date = utc.strftime('%Y/%m/%d')\n",
    "utcday    = datetime(utc.year, utc.month, utc.day)"
   ]
  },
  {
   "cell_type": "code",
   "execution_count": 6,
   "metadata": {
    "collapsed": false
   },
   "outputs": [],
   "source": [
    "# time resolution (in minutes)\n",
    "tres = 10\n",
    "\n",
    "sun  = ephem.Sun()\n",
    "sun.compute(site)\n",
    "time = array([])\n",
    "alt  = array([])\n",
    "azi  = array([])\n",
    "for hour in arange(0,24*60,tres)/60:       \n",
    "    time = append(time,utcday + timedelta(hours=hour))\n",
    "    alt  = append(alt,sun.alt)\n",
    "    azi  = append(azi,sun.az)\n",
    "    \n",
    "    site.date = time[-1]\n",
    "    sun.compute(site)\n"
   ]
  },
  {
   "cell_type": "code",
   "execution_count": 7,
   "metadata": {
    "collapsed": false
   },
   "outputs": [
    {
     "data": {
      "image/png": "[encoded data removed]",
      "text/plain": [
       "<matplotlib.figure.Figure at 0x7f53ad47f190>"
      ]
     },
     "metadata": {},
     "output_type": "display_data"
    }
   ],
   "source": [
    "figure(figsize=(14,10))\n",
    "# All points in black.\n",
    "plot_date(time,alt*180./pi,'ko')\n",
    "\n",
    "# Daytime points in yellow.\n",
    "day = alt>0.\n",
    "plot_date(time[day],alt[day]*180./pi,'yo')\n",
    "title(str(utcday))\n",
    "\n",
    "# Improve formatting.\n",
    "axhline(0,color='k',linestyle='--')\n",
    "gcf().autofmt_xdate()"
   ]
  },
  {
   "cell_type": "code",
   "execution_count": 8,
   "metadata": {
    "collapsed": false
   },
   "outputs": [
    {
     "name": "stdout",
     "output_type": "stream",
     "text": [
      "Approximate length of day is: 12.166666666666666 hours\n"
     ]
    }
   ],
   "source": [
    "ind = find(day>0.)\n",
    "daylength = float(len(ind))/float(len(time)) * 24.\n",
    "print('Approximate length of day is:', daylength, 'hours')"
   ]
  },
  {
   "cell_type": "code",
   "execution_count": 9,
   "metadata": {
    "collapsed": false
   },
   "outputs": [
    {
     "name": "stdout",
     "output_type": "stream",
     "text": [
      "Minimum Solar Zenith Angle (maximum elevation angle) is: 59.7564005.1 degrees\n"
     ]
    }
   ],
   "source": [
    "print('Minimum Solar Zenith Angle (maximum elevation angle) is: %f5.1 degrees' % (90. - max(alt)*180/pi))"
   ]
  },
  {
   "cell_type": "markdown",
   "metadata": {},
   "source": [
    "<i>© Von P. Walden, Washington State University</i>"
   ]
  },
  {
   "cell_type": "code",
   "execution_count": null,
   "metadata": {
    "collapsed": true
   },
   "outputs": [],
   "source": []
  }
 ],
 "metadata": {
  "kernelspec": {
   "display_name": "Python 3",
   "language": "python",
   "name": "python3"
  },
  "language_info": {
   "codemirror_mode": {
    "name": "ipython",
    "version": 3
   },
   "file_extension": ".py",
   "mimetype": "text/x-python",
   "name": "python",
   "nbconvert_exporter": "python",
   "pygments_lexer": "ipython3",
   "version": "3.3.5"
  }
 },
 "nbformat": 4,
 "nbformat_minor": 0
}
