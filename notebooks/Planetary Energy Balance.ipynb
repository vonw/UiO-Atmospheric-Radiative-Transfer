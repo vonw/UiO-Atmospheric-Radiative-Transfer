{
 "cells": [
  {
   "cell_type": "markdown",
   "metadata": {},
   "source": [
    "# Planetary Energy Balance Model"
   ]
  },
  {
   "cell_type": "markdown",
   "metadata": {},
   "source": [
    "#### Adapted from\"Global Physical Climatology\" by Hartmann (1994)."
   ]
  },
  {
   "cell_type": "markdown",
   "metadata": {},
   "source": [
    "## \"Zeroth-Order\" Model"
   ]
  },
  {
   "cell_type": "markdown",
   "metadata": {},
   "source": [
    "### Solar radiation absorbed  =  Infrared radiation emitted"
   ]
  },
  {
   "cell_type": "code",
   "execution_count": 1,
   "metadata": {
    "collapsed": false
   },
   "outputs": [
    {
     "name": "stdout",
     "output_type": "stream",
     "text": [
      "Populating the interactive namespace from numpy and matplotlib\n"
     ]
    }
   ],
   "source": [
    "%pylab inline"
   ]
  },
  {
   "cell_type": "code",
   "execution_count": 5,
   "metadata": {
    "collapsed": false
   },
   "outputs": [
    {
     "name": "stdout",
     "output_type": "stream",
     "text": [
      "The equilibrium temperature of Earth is:  255.0 Kelvin\n"
     ]
    }
   ],
   "source": [
    "So = 1370.         # W m-2\n",
    "ap = 0.30          # Planetary albedo (= 30%)\n",
    "sigma = 5.67e-8    # W m-2 K-4\n",
    "\n",
    "Te = ((So/4.)*(1.-ap)/sigma)**(1./4.)\n",
    "print('The equilibrium temperature of Earth is:  %5.1f Kelvin' % Te)"
   ]
  },
  {
   "cell_type": "markdown",
   "metadata": {},
   "source": [
    "## Include a 1-layer atmosphere; Greenhouse Effect"
   ]
  },
  {
   "cell_type": "code",
   "execution_count": 8,
   "metadata": {
    "collapsed": false
   },
   "outputs": [
    {
     "name": "stdout",
     "output_type": "stream",
     "text": [
      "The equilibrium (and atmospheric) temperature of Earth is:  255.0 Kelvin\n"
     ]
    }
   ],
   "source": [
    "So = 1370.         # W m-2\n",
    "ap = 0.30          # Planetary albedo (= 30%)\n",
    "sigma = 5.67e-8    # W m-2 K-4\n",
    "\n",
    "Ta = Te = ((So/4.)*(1.-ap)/sigma)**(1./4.)\n",
    "print('The equilibrium (and atmospheric) temperature of Earth is:  %5.1f Kelvin' % Te)"
   ]
  },
  {
   "cell_type": "code",
   "execution_count": 9,
   "metadata": {
    "collapsed": false
   },
   "outputs": [
    {
     "name": "stdout",
     "output_type": "stream",
     "text": [
      "The surface temperature of Earth is:  303.3 Kelvin\n"
     ]
    }
   ],
   "source": [
    "Ts = 2**(1./4.) * Te\n",
    "print('The surface temperature of Earth is:  %5.1f Kelvin' % Ts)"
   ]
  },
  {
   "cell_type": "code",
   "execution_count": 10,
   "metadata": {
    "collapsed": false
   },
   "outputs": [
    {
     "data": {
      "text/plain": [
       "1.189207115002721"
      ]
     },
     "execution_count": 10,
     "metadata": {},
     "output_type": "execute_result"
    }
   ],
   "source": [
    "2**(1./4.)"
   ]
  },
  {
   "cell_type": "markdown",
   "metadata": {},
   "source": [
    "#### So in this simple model, the surface temperature is about 19% greater than the equilibrium and atmospheric temperature."
   ]
  },
  {
   "cell_type": "markdown",
   "metadata": {},
   "source": [
    "#### Note that the equilibrium temperature MUST be the same as in the \"zero-order\" model; the energy input from the Sun must equal the energy output from the Earth.  However, the surface temperature is greater because of the extra energy input from the atmosphere."
   ]
  },
  {
   "cell_type": "markdown",
   "metadata": {},
   "source": [
    "### Compare the energy input to the surface from the Sun and that from the atmosphere."
   ]
  },
  {
   "cell_type": "code",
   "execution_count": 15,
   "metadata": {
    "collapsed": false
   },
   "outputs": [
    {
     "name": "stdout",
     "output_type": "stream",
     "text": [
      "Energy Input from the Sun (to the surface): 239.7 W m-2\n",
      "Energy Input from the Atmosphere (to the surface): 239.8 W m-2\n"
     ]
    }
   ],
   "source": [
    "# Energy input from the Sun\n",
    "EnergyInputFromSun = (So/4.)*(1.-ap)\n",
    "print('Energy Input from the Sun (to the surface): %5.1f W m-2' % EnergyInputFromSun)\n",
    "\n",
    "# Energy input from the atmosphere.\n",
    "EnergyInputFromAtm = sigma * Ta**(4.)\n",
    "print('Energy Input from the Atmosphere (to the surface): %5.1f W m-2' % EnergyInputFromAtm)\n"
   ]
  },
  {
   "cell_type": "markdown",
   "metadata": {},
   "source": [
    "#### <font color='red'>This is still not realistic, because the actual greenhouse effect is about 2 times that from solar input.</font>"
   ]
  },
  {
   "cell_type": "markdown",
   "metadata": {},
   "source": [
    "<i>© Von P. Walden, Washington State University</i>"
   ]
  },
  {
   "cell_type": "code",
   "execution_count": null,
   "metadata": {
    "collapsed": true
   },
   "outputs": [],
   "source": []
  }
 ],
 "metadata": {
  "kernelspec": {
   "display_name": "Python 3",
   "language": "python",
   "name": "python3"
  },
  "language_info": {
   "codemirror_mode": {
    "name": "ipython",
    "version": 3
   },
   "file_extension": ".py",
   "mimetype": "text/x-python",
   "name": "python",
   "nbconvert_exporter": "python",
   "pygments_lexer": "ipython3",
   "version": "3.3.5"
  }
 },
 "nbformat": 4,
 "nbformat_minor": 0
}
